{
 "cells": [
  {
   "cell_type": "code",
   "execution_count": 1,
   "metadata": {
    "ExecuteTime": {
     "end_time": "2020-09-24T00:44:10.169042Z",
     "start_time": "2020-09-24T00:44:09.831018Z"
    }
   },
   "outputs": [],
   "source": [
    "import psycopg2\n",
    "import pandas as pd\n",
    "import requests\n",
    "from io import BytesIO, TextIOWrapper"
   ]
  },
  {
   "cell_type": "code",
   "execution_count": 2,
   "metadata": {
    "ExecuteTime": {
     "end_time": "2020-09-24T00:44:42.365735Z",
     "start_time": "2020-09-24T00:44:42.355046Z"
    }
   },
   "outputs": [],
   "source": [
    "DBNAME = \"opportunity_youth\"\n",
    "conn = psycopg2.connect(dbname=DBNAME)"
   ]
  },
  {
   "cell_type": "code",
   "execution_count": 38,
   "metadata": {
    "ExecuteTime": {
     "end_time": "2020-09-24T01:26:10.356441Z",
     "start_time": "2020-09-24T01:26:10.352865Z"
    }
   },
   "outputs": [],
   "source": [
    "def query(string):\n",
    "    return pd.read_sql(string, conn)"
   ]
  },
  {
   "cell_type": "code",
   "execution_count": 178,
   "metadata": {
    "ExecuteTime": {
     "end_time": "2020-09-24T04:02:06.538277Z",
     "start_time": "2020-09-24T04:02:06.534012Z"
    }
   },
   "outputs": [],
   "source": [
    "def data_dictionary():\n",
    "\n",
    "    response = requests.get('https://www2.census.gov/programs-surveys/acs/tech_docs/pums/data_dict/PUMS_Data_Dictionary_2013-2017.csv')\n",
    "    content_as_file = BytesIO(response.content)\n",
    "    csv_file_text = TextIOWrapper(content_as_file, encoding=\"ISO-8859-1\")\n",
    "    return pd.read_csv(csv_file_text).reset_index()"
   ]
  },
  {
   "cell_type": "code",
   "execution_count": 179,
   "metadata": {
    "ExecuteTime": {
     "end_time": "2020-09-24T04:02:07.658887Z",
     "start_time": "2020-09-24T04:02:07.093686Z"
    }
   },
   "outputs": [],
   "source": [
    "d_dict = data_dictionary()\n",
    "\n",
    "def search(string):\n",
    "    return d_dict[d_dict.C.str.contains(string,  case=False)]"
   ]
  },
  {
   "cell_type": "code",
   "execution_count": 27,
   "metadata": {
    "ExecuteTime": {
     "end_time": "2020-09-24T01:22:29.253169Z",
     "start_time": "2020-09-24T01:22:29.203496Z"
    }
   },
   "outputs": [
    {
     "data": {
      "text/html": [
       "<div>\n",
       "<style scoped>\n",
       "    .dataframe tbody tr th:only-of-type {\n",
       "        vertical-align: middle;\n",
       "    }\n",
       "\n",
       "    .dataframe tbody tr th {\n",
       "        vertical-align: top;\n",
       "    }\n",
       "\n",
       "    .dataframe thead th {\n",
       "        text-align: right;\n",
       "    }\n",
       "</style>\n",
       "<table border=\"1\" class=\"dataframe\">\n",
       "  <thead>\n",
       "    <tr style=\"text-align: right;\">\n",
       "      <th></th>\n",
       "      <th>table_name</th>\n",
       "    </tr>\n",
       "  </thead>\n",
       "  <tbody>\n",
       "    <tr>\n",
       "      <th>0</th>\n",
       "      <td>pums_2017</td>\n",
       "    </tr>\n",
       "    <tr>\n",
       "      <th>1</th>\n",
       "      <td>puma_names_2010</td>\n",
       "    </tr>\n",
       "    <tr>\n",
       "      <th>2</th>\n",
       "      <td>il_jobs_2017</td>\n",
       "    </tr>\n",
       "    <tr>\n",
       "      <th>3</th>\n",
       "      <td>il_geo_xwalk</td>\n",
       "    </tr>\n",
       "    <tr>\n",
       "      <th>4</th>\n",
       "      <td>ct_puma_xwalk</td>\n",
       "    </tr>\n",
       "  </tbody>\n",
       "</table>\n",
       "</div>"
      ],
      "text/plain": [
       "        table_name\n",
       "0        pums_2017\n",
       "1  puma_names_2010\n",
       "2     il_jobs_2017\n",
       "3     il_geo_xwalk\n",
       "4    ct_puma_xwalk"
      ]
     },
     "execution_count": 27,
     "metadata": {},
     "output_type": "execute_result"
    }
   ],
   "source": [
    "pd.read_sql(\"\"\"SELECT table_name FROM information_schema.tables\n",
    "       WHERE table_schema = 'public'\"\"\", conn)"
   ]
  },
  {
   "cell_type": "code",
   "execution_count": 58,
   "metadata": {
    "ExecuteTime": {
     "end_time": "2020-09-24T01:37:38.507306Z",
     "start_time": "2020-09-24T01:37:38.497278Z"
    }
   },
   "outputs": [],
   "source": [
    "puma = query(\"\"\"SELECT geoid FROM puma_names_2010 WHERE puma_name LIKE '%Rock Island%'\"\"\").geoid[0][2:]\n",
    "\n",
    "rock_island = query(f\"\"\"SELECT * from pums_2017 WHERE puma = '{puma}'\"\"\")\n",
    "\n",
    "geo_xwalk = query(f\"\"\"SELECT * \n",
    "                FROM il_geo_xwalk \n",
    "                WHERE ctyname \n",
    "                LIKE '%Rock Island%'\n",
    "                AND tabblk2010\n",
    "                LIKE '%{puma}%'\"\"\")"
   ]
  },
  {
   "cell_type": "code",
   "execution_count": 150,
   "metadata": {
    "ExecuteTime": {
     "end_time": "2020-09-24T03:50:07.418487Z",
     "start_time": "2020-09-24T03:50:07.411655Z"
    }
   },
   "outputs": [],
   "source": [
    "variables = search('education')\n",
    "\n",
    "variables = variables.append(search('disability'))\n",
    "\n",
    "variables = variables.append(search('work'))\n",
    "\n",
    "variables = variables.append(search('difficulty'))\n",
    "\n",
    "variables = variables\\\n",
    ".append(search('race')[search('race')\\\n",
    "                       .level_1.isin(['RACAIAN','RACASN',\n",
    "                                      'RACBLK','RACNH',\n",
    "                                      'RACPI','RACSOR',\n",
    "                                      'RACWHT'])])\n",
    "\n",
    "variables"
   ]
  },
  {
   "cell_type": "code",
   "execution_count": null,
   "metadata": {},
   "outputs": [],
   "source": []
  }
 ],
 "metadata": {
  "kernelspec": {
   "display_name": "Python 3",
   "language": "python",
   "name": "python3"
  },
  "language_info": {
   "codemirror_mode": {
    "name": "ipython",
    "version": 3
   },
   "file_extension": ".py",
   "mimetype": "text/x-python",
   "name": "python",
   "nbconvert_exporter": "python",
   "pygments_lexer": "ipython3",
   "version": "3.7.7"
  },
  "toc": {
   "base_numbering": 1,
   "nav_menu": {},
   "number_sections": false,
   "sideBar": true,
   "skip_h1_title": true,
   "title_cell": "Table of Contents",
   "title_sidebar": "Contents",
   "toc_cell": false,
   "toc_position": {},
   "toc_section_display": true,
   "toc_window_display": false
  },
  "varInspector": {
   "cols": {
    "lenName": 16,
    "lenType": 16,
    "lenVar": 40
   },
   "kernels_config": {
    "python": {
     "delete_cmd_postfix": "",
     "delete_cmd_prefix": "del ",
     "library": "var_list.py",
     "varRefreshCmd": "print(var_dic_list())"
    },
    "r": {
     "delete_cmd_postfix": ") ",
     "delete_cmd_prefix": "rm(",
     "library": "var_list.r",
     "varRefreshCmd": "cat(var_dic_list()) "
    }
   },
   "types_to_exclude": [
    "module",
    "function",
    "builtin_function_or_method",
    "instance",
    "_Feature"
   ],
   "window_display": false
  }
 },
 "nbformat": 4,
 "nbformat_minor": 4
}
